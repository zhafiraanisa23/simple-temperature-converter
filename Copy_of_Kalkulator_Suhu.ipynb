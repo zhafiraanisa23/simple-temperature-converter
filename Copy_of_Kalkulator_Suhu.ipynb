{
  "nbformat": 4,
  "nbformat_minor": 0,
  "metadata": {
    "colab": {
      "provenance": [],
      "authorship_tag": "ABX9TyN++PKFNVvRkGo8OV1XsIpB",
      "include_colab_link": true
    },
    "kernelspec": {
      "name": "python3",
      "display_name": "Python 3"
    },
    "language_info": {
      "name": "python"
    }
  },
  "cells": [
    {
      "cell_type": "markdown",
      "metadata": {
        "id": "view-in-github",
        "colab_type": "text"
      },
      "source": [
        "<a href=\"https://colab.research.google.com/github/zhafiraanisa23/simple-temperature-converter/blob/main/Copy_of_Kalkulator_Suhu.ipynb\" target=\"_parent\"><img src=\"https://colab.research.google.com/assets/colab-badge.svg\" alt=\"Open In Colab\"/></a>"
      ]
    },
    {
      "cell_type": "markdown",
      "source": [
        "**KALKULATOR PERUBAHAN SUHU**\n",
        "\n",
        "Berisi Syntax sederhana dengan menggunakan fungsi aritmatika pada bahasa pemrograman python untuk melakukan perhitungan perubahan suhu secara otomatis. Kalkulator ini dirancang untuk menyederhanakan proses konversi suhu dari satu skala ke skala lain, memberikan kemudahan kepada pengguna untuk menghitung dengan akurat tanpa kerumitan."
      ],
      "metadata": {
        "id": "v9aJ7-qvy-yD"
      }
    },
    {
      "cell_type": "markdown",
      "source": [
        "**Perubahan Suhu Celcius**"
      ],
      "metadata": {
        "id": "BH5GCj9c4lYi"
      }
    },
    {
      "cell_type": "code",
      "source": [
        "celcius = float(input(\"Masukan Suhu dalam Celcius: \"))\n",
        "\n",
        "#suhu dalam Reamur\n",
        "Reamur = (3/4)*celcius\n",
        "print(\"Suhu dalam Reamur adalah : \",Reamur, \"derajat\")\n",
        "\n",
        "#suhu dalam Fahrenheit\n",
        "Fahrenheit = ((9/5)*celcius)+32\n",
        "print(\"Suhu dalam Fahrenheit adalah : \",Fahrenheit, \"derajat\")\n",
        "\n",
        "#suhu dalam Kelvin\n",
        "Kelvin = celcius + 273\n",
        "print(\"Suhu dalam Kelvin adalah : \",Kelvin, \"derajat\")"
      ],
      "metadata": {
        "colab": {
          "base_uri": "https://localhost:8080/"
        },
        "id": "vAqzFzxazHRa",
        "outputId": "6923e439-e841-4970-f62d-62ad81c76965"
      },
      "execution_count": null,
      "outputs": [
        {
          "output_type": "stream",
          "name": "stdout",
          "text": [
            "Masukan Suhu dalam Celcius: 80\n",
            "Suhu dalam Reamur adalah :  60.0 derajat\n",
            "Suhu dalam Fahrenheit adalah :  176.0 derajat\n",
            "Suhu dalam Kelvin adalah :  353.0 derajat\n"
          ]
        }
      ]
    },
    {
      "cell_type": "markdown",
      "source": [
        "**Perubahan Suhu Reamur**"
      ],
      "metadata": {
        "id": "4MnZAswX4tIl"
      }
    },
    {
      "cell_type": "code",
      "source": [
        "Reamur = float(input(\"Masukan Suhu dalam Reamur: \"))\n",
        "\n",
        "#suhu dalam Celsius\n",
        "Celsius = (5/4)*Reamur\n",
        "print(\"Suhu dalam Celcius adalah :\",Celsius, \"derajat\")\n",
        "\n",
        "#suhu dalam Fahrenheit\n",
        "Fahrenheit = ((9/4)*Reamur)+32\n",
        "print(\"Suhu dalam Fahrenheit adalah : \",Fahrenheit, \"derajat\")\n",
        "\n",
        "#suhu dalam Kelvin\n",
        "Kelvin = ((5/4)*Reamur) + 273\n",
        "print(\"Suhu dalam Kelvin adalah : \",Kelvin, \"derajat\")"
      ],
      "metadata": {
        "colab": {
          "base_uri": "https://localhost:8080/"
        },
        "id": "9HRQbFnQzBo-",
        "outputId": "84df34cd-1e69-4ef2-e967-c7c83b6a4243"
      },
      "execution_count": null,
      "outputs": [
        {
          "output_type": "stream",
          "name": "stdout",
          "text": [
            "Masukan Suhu dalam Reamur: 90\n",
            "Suhu dalam Celcius adalah : 112.5 derajat\n",
            "Suhu dalam Fahrenheit adalah :  234.5 derajat\n",
            "Suhu dalam Kelvin adalah :  385.5 derajat\n"
          ]
        }
      ]
    },
    {
      "cell_type": "markdown",
      "source": [
        "**Perubahan Suhu Fahrenheit**"
      ],
      "metadata": {
        "id": "HHduufpa48tw"
      }
    },
    {
      "cell_type": "code",
      "source": [
        "Fahrenheit = float(input(\"Masukan Suhu dalam Fahrenheit: \"))\n",
        "\n",
        "#suhu dalam Celsius\n",
        "Celsius = (5/9)*(Fahrenheit-32)\n",
        "print(\"Suhu dalam Celcius adalah :\",Celsius, \"derajat\")\n",
        "\n",
        "#suhu dalam Reamur\n",
        "Reamur = (4/9)*(Fahrenheit-32)\n",
        "print(\"Suhu dalam Reamur adalah : \",Reamur, \"derajat\")\n",
        "\n",
        "#suhu dalam Kelvin\n",
        "Kelvin = ((5/4)*Reamur) + 273\n",
        "print(\"Suhu dalam Kelvin adalah : \",Kelvin, \"derajat\")\n",
        "\n"
      ],
      "metadata": {
        "colab": {
          "base_uri": "https://localhost:8080/"
        },
        "id": "9ngt_k8Y44UP",
        "outputId": "ef77a470-16ef-45de-c229-45480520866c"
      },
      "execution_count": null,
      "outputs": [
        {
          "output_type": "stream",
          "name": "stdout",
          "text": [
            "Masukan Suhu dalam Fahrenheit: 90\n",
            "Suhu dalam Celcius adalah : 32.22222222222222 derajat\n",
            "Suhu dalam Reamur adalah :  25.777777777777775 derajat\n",
            "Suhu dalam Kelvin adalah :  305.22222222222223 derajat\n"
          ]
        }
      ]
    },
    {
      "cell_type": "markdown",
      "source": [
        "**Perubahan Suhu Kelvin**"
      ],
      "metadata": {
        "id": "-8ZGNxwR6QxM"
      }
    },
    {
      "cell_type": "code",
      "source": [
        "Kelvin = float(input(\"Masukan Suhu dalam Kelvin: \"))\n",
        "\n",
        "#suhu dalam Celsius\n",
        "Celsius = Kelvin-273\n",
        "print(\"Suhu dalam Celcius adalah :\",Celsius, \"derajat\")\n",
        "\n",
        "#suhu dalam Reamur\n",
        "Reamur = (4/5)*(Kelvin-273)\n",
        "print(\"Suhu dalam Reamur adalah : \",Reamur, \"derajat\")\n",
        "\n",
        "#suhu dalam Fahrenheit\n",
        "Fahrenheit = ((9/4)*Reamur)+32\n",
        "print(\"Suhu dalam Fahrenheit adalah : \",Fahrenheit, \"derajat\")"
      ],
      "metadata": {
        "colab": {
          "base_uri": "https://localhost:8080/"
        },
        "id": "sHnKz8ed6T3A",
        "outputId": "373640bd-4301-43f7-e84f-5be4fce896de"
      },
      "execution_count": null,
      "outputs": [
        {
          "output_type": "stream",
          "name": "stdout",
          "text": [
            "Masukan Suhu dalam Kelvin: 300\n",
            "Suhu dalam Celcius adalah : 27.0 derajat\n",
            "Suhu dalam Reamur adalah :  21.6 derajat\n",
            "Suhu dalam Fahrenheit adalah :  80.6 derajat\n"
          ]
        }
      ]
    }
  ]
}